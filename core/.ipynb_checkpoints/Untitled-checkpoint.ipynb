{
 "cells": [
  {
   "cell_type": "markdown",
   "metadata": {},
   "source": [
    "# Topic Modeling\n",
    "\n",
    "bioRxiv-medxiv files source: https://th-koeln.sciebo.de/s/oYPopaU7qxs0WzP"
   ]
  },
  {
   "cell_type": "code",
   "execution_count": 5,
   "metadata": {},
   "outputs": [
    {
     "data": {
      "text/plain": [
       "title                  0\n",
       "doi                    0\n",
       "citation_id            0\n",
       "date                   0\n",
       "laguage                0\n",
       "journal_title          0\n",
       "first_page             0\n",
       "abstract               0\n",
       "twitter_description    0\n",
       "full_text_html_url     0\n",
       "public_url             0\n",
       "abstract_html_url      0\n",
       "pdf_url                0\n",
       "rights                 0\n",
       "publisher              0\n",
       "pisa                   0\n",
       "access_rights          0\n",
       "authors                0\n",
       "dtype: int64"
      ]
     },
     "execution_count": 5,
     "metadata": {},
     "output_type": "execute_result"
    }
   ],
   "source": [
    "import os, json\n",
    "import pandas as pd\n",
    "import glob\n",
    "\n",
    "path_json = '../data/'\n",
    "\n",
    "temp = pd.DataFrame()\n",
    "\n",
    "pattern = os.path.join(path_json,'*.json')\n",
    "file_list = glob.glob(pattern)\n",
    "\n",
    "for file in file_list:\n",
    "    data = pd.read_json(file, lines=True)\n",
    "    temp = temp.append(data, ignore_index=True)\n",
    "\n",
    "    \n",
    "#temp.isnull().sum()\n",
    "\n"
   ]
  },
  {
   "cell_type": "code",
   "execution_count": null,
   "metadata": {},
   "outputs": [],
   "source": []
  }
 ],
 "metadata": {
  "kernelspec": {
   "display_name": "Python 3",
   "language": "python",
   "name": "python3"
  },
  "language_info": {
   "codemirror_mode": {
    "name": "ipython",
    "version": 3
   },
   "file_extension": ".py",
   "mimetype": "text/x-python",
   "name": "python",
   "nbconvert_exporter": "python",
   "pygments_lexer": "ipython3",
   "version": "3.7.6"
  }
 },
 "nbformat": 4,
 "nbformat_minor": 4
}
